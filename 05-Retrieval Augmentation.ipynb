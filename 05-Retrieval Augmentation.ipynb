{
 "cells": [
  {
   "cell_type": "markdown",
   "metadata": {},
   "source": [
    "LLM에는 데이타 최신성에 대한 문제가 있다. GPT-4 처럼 최신의 강력한 모델이라도 최신의 사건/이벤트에 대해서는 알 수 있을 방법이 없다.\n",
    "LLM이 보는 세상은 특정 시점에 고정이 되어 있다. LLM은 LLM이 훈련을 받은 데이타에 들어있는 그 세계에 대해서만 알고 있다.\n",
    "그래서 최신 정보를 다루어야 하거나 특정 데이타셋을 이용해야 하는 경우에는 곤란한 경우가 발생한다. 예를 들어 LLM을 통해서 회사 내부 자료(documents)에 대한 뭔가를 하는 애플리케이션을 만들 어야 하는 경우를 말한다.\n",
    "\n",
    "제일 먼저 마주하는 어려운 점은 LLM에게 이런 자료를 추가를 하는 부분이다. LLM이 이런 자료에 대해서 훈련을 시키려고 시도를 할 수도 있지만 이것은 시간도 많이 걸리고 비용이 많이 드는 작업이다. 더군다나, 회사의 자료들도 계속해서 새로운 것들이 만들어진다. 그럴 때마다 훈련을 시킬 수도 없을 뿐더러 매분 매초마다 자료가 추가되는 상황에서 훈련을 시킨 후에 LLM을 이용한다는 것은 비효율적일 뿐만아니라 사실상 불가능하다.\n",
    "\n",
    "그러면 이 문제를 어떻게 처리할 것인가? 여기에 <i>retrieval augmentation</i>가 필요하다. 이 기술은 외부 지식으로부터 관련된 정보를 찾아내서 그 정보를 LLM에게 전달해 주는 역할을 한다.\n",
    "\n",
    "외부 knowledge base는 LLM의 훈련 데이타의 범위를 벗어나 세계를 쳐다볼 수 있는 '창(window)'의 역할을 한다. 이 챕터에서는 Langchain에서 LLM이 retrieval augmentation을 구현하는 것에 대해서 알아본다.\n",
    "\n",
    "## Creating the Knowledge Base\n",
    "\n",
    "LLM의 관점에서 지식(knowledge)는 두가지 타입이 있다. 하나는 <i>parametric knowledge[^1]</i>라고 하는 것인데 LLM이 훈련을 받는 과정에 들어온 모든 정보를 말한다. 따라서 이 정보들은 LLM이 세상을 배울 때 사용했던 그 순간의 투영(frozen snapshot)이다.\n",
    "\n",
    "두번째 타입의 지식은 <i>source knowledge</i>라고 한다. LLM에게 인풋 프롬프트를 통해서 공급되는 정보를 말한다. 우리가 <i>retrieval augmentation</i>에 대해서 이야기 할 때에는 이것은 전부다 source knowledge이다.\n",
    "\n",
    "[^1]Parameter라는 단어는 LLM의 기본이 되는 neural network 알고리즘은 모든 것이 함수이고 그 함수의 복잡도는 파라미터의 개수에 의해 결정된다. 수십억개의 파라미터를 찾아내는 과정을 훈련을 하는 것이라고 생각할 수 있다. 이 파라미터들이 결국은 지식이라는 뜻에서 'parametric knowledge'라고 언급된 것 같다.\n",
    "\n",
    "### Getting Data for our Knowledge Base\n",
    "\n",
    "LLM이 관련되어 있는 knowledge base에 접근을 할 수 있도록 하려면 먼저 knowledge base를 만들어야 한다.\n",
    "\n",
    "먼저 knowledge base를 위한 데이타셋부터 준비하자. 만약 코딩을 도와주는 LLM을 위해서라면 코드와 관련된 문서(매뉴얼)이 데이타셋일 수 있고, 사내 챗본을 위해서라면 회사 문서일 수 있다.\n",
    "\n",
    "여기서는 위키피디아의 일부 데이타를 예제로 사용한다. 위키피디아의 데이타셋은 Hugging Face의 데이타셋을 이용하면 된다. Hugging Face의 데이타셋에 대해서는 https://huggingface.co/docs/datasets/index 에서 좀 더 살펴볼 필요가 있다."
   ]
  },
  {
   "cell_type": "code",
   "execution_count": 1,
   "metadata": {},
   "outputs": [
    {
     "name": "stderr",
     "output_type": "stream",
     "text": [
      "/Users/minsoojo/Library/Caches/pypoetry/virtualenvs/pinecone-ai-handbook-m0t52s90-py3.10/lib/python3.10/site-packages/datasets/load.py:1491: FutureWarning: The repository for wikipedia contains custom code which must be executed to correctly load the dataset. You can inspect the repository content at https://hf.co/datasets/wikipedia\n",
      "You can avoid this message in future by passing the argument `trust_remote_code=True`.\n",
      "Passing `trust_remote_code=True` will be mandatory to load this dataset from the next major release of `datasets`.\n",
      "  warnings.warn(\n"
     ]
    },
    {
     "data": {
      "text/plain": [
       "Dataset({\n",
       "    features: ['id', 'url', 'title', 'text'],\n",
       "    num_rows: 10000\n",
       "})"
      ]
     },
     "execution_count": 1,
     "metadata": {},
     "output_type": "execute_result"
    }
   ],
   "source": [
    "from datasets import load_dataset\n",
    "\n",
    "data = load_dataset(\"wikipedia\", \"20220301.simple\", split='train[:10000]')\n",
    "data"
   ]
  },
  {
   "cell_type": "code",
   "execution_count": 2,
   "metadata": {},
   "outputs": [
    {
     "data": {
      "text/plain": [
       "{'id': '13',\n",
       " 'url': 'https://simple.wikipedia.org/wiki/Alan%20Turing',\n",
       " 'title': 'Alan Turing',\n",
       " 'text': 'Alan Mathison Turing OBE FRS (London, 23 June 1912 – Wilmslow, Cheshire, 7 June 1954) was an English mathematician and computer scientist. He was born in Maida Vale, London.\\n\\nEarly life and family \\nAlan Turing was born in Maida Vale, London on 23 June 1912. His father was part of a family of merchants from Scotland. His mother, Ethel Sara, was the daughter of an engineer.\\n\\nEducation \\nTuring went to St. Michael\\'s, a school at 20 Charles Road, St Leonards-on-sea, when he was five years old.\\n\"This is only a foretaste of what is to come, and only the shadow of what is going to be.” – Alan Turing.\\n\\nThe Stoney family were once prominent landlords, here in North Tipperary. His mother Ethel Sara Stoney (1881–1976) was daughter of Edward Waller Stoney (Borrisokane, North Tipperary) and Sarah Crawford (Cartron Abbey, Co. Longford); Protestant Anglo-Irish gentry.\\n\\nEducated in Dublin at Alexandra School and College; on October 1st 1907 she married Julius Mathison Turing, latter son of Reverend John Robert Turing and Fanny Boyd, in Dublin. Born on June 23rd 1912, Alan Turing would go on to be regarded as one of the greatest figures of the twentieth century.\\n\\nA brilliant mathematician and cryptographer Alan was to become the founder of modern-day computer science and artificial intelligence; designing a machine at Bletchley Park to break secret Enigma encrypted messages used by the Nazi German war machine to protect sensitive commercial, diplomatic and military communications during World War 2. Thus, Turing made the single biggest contribution to the Allied victory in the war against Nazi Germany, possibly saving the lives of an estimated 2 million people, through his effort in shortening World War II.\\n\\nIn 2013, almost 60 years later, Turing received a posthumous Royal Pardon from Queen Elizabeth II. Today, the “Turing law” grants an automatic pardon to men who died before the law came into force, making it possible for living convicted gay men to seek pardons for offences now no longer on the statute book.\\n\\nAlas, Turing accidentally or otherwise lost his life in 1954, having been subjected by a British court to chemical castration, thus avoiding a custodial sentence. He is known to have ended his life at the age of 41 years, by eating an apple laced with cyanide.\\n\\nCareer \\nTuring was one of the people who worked on the first computers. He created the theoretical  Turing machine in 1936. The machine was imaginary, but it included the idea of a computer program.\\n\\nTuring was interested in artificial intelligence. He proposed the Turing test, to say when a machine could be called \"intelligent\". A computer could be said to \"think\" if a human talking with it could not tell it was a machine.\\n\\nDuring World War II, Turing worked with others to break German ciphers (secret messages). He  worked for the Government Code and Cypher School (GC&CS) at Bletchley Park, Britain\\'s codebreaking centre that produced Ultra intelligence.\\nUsing cryptanalysis, he helped to break the codes of the Enigma machine. After that, he worked on other German codes.\\n\\nFrom 1945 to 1947, Turing worked on the design of the ACE (Automatic Computing Engine) at the National Physical Laboratory. He presented a paper on 19 February 1946. That paper was \"the first detailed design of a stored-program computer\". Although it was possible to build ACE, there were delays in starting the project. In late 1947 he returned to Cambridge for a sabbatical year. While he was at Cambridge, the Pilot ACE was built without him. It ran its first program on 10\\xa0May 1950.\\n\\nPrivate life \\nTuring was a homosexual man. In 1952, he admitted having had sex with a man in England. At that time, homosexual acts were illegal. Turing was convicted. He had to choose between going to jail and taking hormones to lower his sex drive. He decided to take the hormones. After his punishment, he became impotent. He also grew breasts.\\n\\nIn May 2012, a private member\\'s bill was put before the House of Lords to grant Turing a statutory pardon. In July 2013, the government supported it. A royal pardon was granted on 24 December 2013.\\n\\nDeath \\nIn 1954, Turing died from cyanide poisoning. The cyanide came from either an apple which was poisoned with cyanide, or from water that had cyanide in it. The reason for the confusion is that the police never tested the apple for cyanide. It is also suspected that he committed suicide.\\n\\nThe treatment forced on him is now believed to be very wrong. It is against medical ethics and international laws of human rights. In August 2009, a petition asking the British Government to apologise to Turing for punishing him for being a homosexual was started. The petition received thousands of signatures. Prime Minister Gordon Brown acknowledged the petition. He called Turing\\'s treatment \"appalling\".\\n\\nReferences\\n\\nOther websites \\nJack Copeland 2012. Alan Turing: The codebreaker who saved \\'millions of lives\\'. BBC News / Technology \\n\\nEnglish computer scientists\\nEnglish LGBT people\\nEnglish mathematicians\\nGay men\\nLGBT scientists\\nScientists from London\\nSuicides by poison\\nSuicides in the United Kingdom\\n1912 births\\n1954 deaths\\nOfficers of the Order of the British Empire'}"
      ]
     },
     "execution_count": 2,
     "metadata": {},
     "output_type": "execute_result"
    }
   ],
   "source": [
    "data[6]"
   ]
  },
  {
   "cell_type": "markdown",
   "metadata": {},
   "source": [
    "대부분의 데이타셋은 긴 텍스트(문장)을 포함하고 있는 행(record)으로 되어 있다. 그래서 우리가 첫번째로 해야할 것은 이 긴 문장을 좀 더 간결한 chunk(문장 덩어리)로 만드는 사전 처리 파이프라인을 만드는 것이다.\n",
    "\n",
    "### Creating Chunks\n",
    "\n",
    "긴 문장을 작은 chunk로 만드는 것은 여러가지 이유로 반드시 필요한 작업이다.\n",
    "- <i>임베딩[^1] 정확성(embedding accuracy)</i>를 향상해야 한다. 임베딩의 정확도를 향상시킨다는 것은 파이프라인에서 나오는 결과의 연관성을 높이는 길이다.\n",
    "- LLM에 source knowledge로써 입력해 주는 텍스트의 양을 줄인다. 인풋 크기를 제한하는 것은 LLM의 능력을 향상시켜서 인스트럭션을 잘 따르게 하고, 비용을 줄이며, 답변 속도를 빠르게 할 수 있다.\n",
    "- chunk의 크기가 아주 길면 context window 최대치를 넘어갈 수도 있다. 따라서 chunk를 더 잘게 나누게 되면 긴 문서를 knowledge base에 추가할 수 있다.\n",
    "\n",
    "[^1] 임베딩에 대해서도 자세히 알 필요는 없다. 다만 문장덩어리(chunk)를 벡터(행열)로 만들어서 서로 다른 chunk끼리의 가까운 정도를 통해서 연관된 문장/단어를 찾아내는 것이 필요한데 이렇게 벡터화 하는 것을 임베딩, 벡터임베딩 등으로 이야기 한다.\n",
    "\n",
    "Chunk를 만들 때에는 먼저 텍스트의 길이를 측정을 해야 한다. 측정 단위는 'token'이다. LLM이 단어의 갯수나 알파벳의 갯수로 측정을 하지 않기 때문이다. Token은 일반적으로 단어 혹은 단어의 부분(sub-word)를 기반으로 하지만 가변적이다. Token은 <i>tokenizer</i>를 통해서 생성이 된다. Tokenizer로는 toktoken 라이브러리를 사용할 것이다."
   ]
  },
  {
   "cell_type": "code",
   "execution_count": 3,
   "metadata": {},
   "outputs": [],
   "source": [
    "import tiktoken\n",
    "\n",
    "tokenizer = tiktoken.get_encoding('p50k_base')"
   ]
  },
  {
   "cell_type": "markdown",
   "metadata": {},
   "source": [
    "위 tokenizer를 통해서 token의 갯수를 세는 함수를 하나 만든다."
   ]
  },
  {
   "cell_type": "code",
   "execution_count": 4,
   "metadata": {},
   "outputs": [
    {
     "data": {
      "text/plain": [
       "28"
      ]
     },
     "execution_count": 4,
     "metadata": {},
     "output_type": "execute_result"
    }
   ],
   "source": [
    "def tiktoken_len(text):\n",
    "    tokens = tokenizer.encode(\n",
    "        text,\n",
    "        disallowed_special=()\n",
    "    )\n",
    "    return len(tokens)\n",
    "\n",
    "tiktoken_len(\"hello I am a chunk of text and using the tiktoken_len function \"\n",
    "             \"we can find the length of this chunk of text in tokens\")"
   ]
  },
  {
   "cell_type": "markdown",
   "metadata": {},
   "source": [
    "함수가 마련되었기 때문에 이제 Langchain의 <b>RecursiveCharacterTextSplitter</b> 객체를 초기화할 수 있다. 이 객체는 우리가 지정하는 chunk_size 파라미터보다 더 길지 않도록 문장을 chunk로 나누게 된다."
   ]
  },
  {
   "cell_type": "code",
   "execution_count": 8,
   "metadata": {},
   "outputs": [
    {
     "data": {
      "text/plain": [
       "['Alan Mathison Turing OBE FRS (London, 23 June 1912 – Wilmslow, Cheshire, 7 June 1954) was an English mathematician and computer scientist. He was born in Maida Vale, London.\\n\\nEarly life and family \\nAlan Turing was born in Maida Vale, London on 23 June 1912. His father was part of a family of merchants from Scotland. His mother, Ethel Sara, was the daughter of an engineer.\\n\\nEducation \\nTuring went to St. Michael\\'s, a school at 20 Charles Road, St Leonards-on-sea, when he was five years old.\\n\"This is only a foretaste of what is to come, and only the shadow of what is going to be.” – Alan Turing.\\n\\nThe Stoney family were once prominent landlords, here in North Tipperary. His mother Ethel Sara Stoney (1881–1976) was daughter of Edward Waller Stoney (Borrisokane, North Tipperary) and Sarah Crawford (Cartron Abbey, Co. Longford); Protestant Anglo-Irish gentry.\\n\\nEducated in Dublin at Alexandra School and College; on October 1st 1907 she married Julius Mathison Turing, latter son of Reverend John Robert Turing and Fanny Boyd, in Dublin. Born on June 23rd 1912, Alan Turing would go on to be regarded as one of the greatest figures of the twentieth century.\\n\\nA brilliant mathematician and cryptographer Alan was to become the founder of modern-day computer science and artificial intelligence; designing a machine at Bletchley Park to break secret Enigma encrypted messages used by the Nazi German war machine to protect sensitive commercial, diplomatic and military communications during World War 2. Thus, Turing made the single biggest contribution to the Allied victory in the war against Nazi Germany, possibly saving the lives of an estimated 2 million people, through his effort in shortening World War II.',\n",
       " 'In 2013, almost 60 years later, Turing received a posthumous Royal Pardon from Queen Elizabeth II. Today, the “Turing law” grants an automatic pardon to men who died before the law came into force, making it possible for living convicted gay men to seek pardons for offences now no longer on the statute book.\\n\\nAlas, Turing accidentally or otherwise lost his life in 1954, having been subjected by a British court to chemical castration, thus avoiding a custodial sentence. He is known to have ended his life at the age of 41 years, by eating an apple laced with cyanide.\\n\\nCareer \\nTuring was one of the people who worked on the first computers. He created the theoretical  Turing machine in 1936. The machine was imaginary, but it included the idea of a computer program.\\n\\nTuring was interested in artificial intelligence. He proposed the Turing test, to say when a machine could be called \"intelligent\". A computer could be said to \"think\" if a human talking with it could not tell it was a machine.\\n\\nDuring World War II, Turing worked with others to break German ciphers (secret messages). He  worked for the Government Code and Cypher School (GC&CS) at Bletchley Park, Britain\\'s codebreaking centre that produced Ultra intelligence.\\nUsing cryptanalysis, he helped to break the codes of the Enigma machine. After that, he worked on other German codes.',\n",
       " 'From 1945 to 1947, Turing worked on the design of the ACE (Automatic Computing Engine) at the National Physical Laboratory. He presented a paper on 19 February 1946. That paper was \"the first detailed design of a stored-program computer\". Although it was possible to build ACE, there were delays in starting the project. In late 1947 he returned to Cambridge for a sabbatical year. While he was at Cambridge, the Pilot ACE was built without him. It ran its first program on 10\\xa0May 1950.\\n\\nPrivate life \\nTuring was a homosexual man. In 1952, he admitted having had sex with a man in England. At that time, homosexual acts were illegal. Turing was convicted. He had to choose between going to jail and taking hormones to lower his sex drive. He decided to take the hormones. After his punishment, he became impotent. He also grew breasts.\\n\\nIn May 2012, a private member\\'s bill was put before the House of Lords to grant Turing a statutory pardon. In July 2013, the government supported it. A royal pardon was granted on 24 December 2013.\\n\\nDeath \\nIn 1954, Turing died from cyanide poisoning. The cyanide came from either an apple which was poisoned with cyanide, or from water that had cyanide in it. The reason for the confusion is that the police never tested the apple for cyanide. It is also suspected that he committed suicide.\\n\\nThe treatment forced on him is now believed to be very wrong. It is against medical ethics and international laws of human rights. In August 2009, a petition asking the British Government to apologise to Turing for punishing him for being a homosexual was started. The petition received thousands of signatures. Prime Minister Gordon Brown acknowledged the petition. He called Turing\\'s treatment \"appalling\".\\n\\nReferences']"
      ]
     },
     "execution_count": 8,
     "metadata": {},
     "output_type": "execute_result"
    }
   ],
   "source": [
    "from langchain.text_splitter import RecursiveCharacterTextSplitter\n",
    "\n",
    "text_splitter = RecursiveCharacterTextSplitter(\n",
    "    chunk_size=400,\n",
    "    chunk_overlap=20,\n",
    "    length_function=tiktoken_len,\n",
    "    separators=[\"\\n\\n\", \"\\n\", \" \", \"\"]\n",
    ")\n",
    "\n",
    "# 아래는 chunk를 한 번 나누어 보는 예제\n",
    "chunks = text_splitter.split_text(data[6]['text'])[:3]\n",
    "chunks"
   ]
  },
  {
   "cell_type": "markdown",
   "metadata": {},
   "source": [
    "실제 위키피디어 문서인 https://simple.wikipedia.org/wiki/Alan_Turing 에 있는 내용을 chunk 길이가 400이 넘지 않도록 나눈 것이다."
   ]
  },
  {
   "cell_type": "code",
   "execution_count": 9,
   "metadata": {},
   "outputs": [
    {
     "data": {
      "text/plain": [
       "(397, 304, 370)"
      ]
     },
     "execution_count": 9,
     "metadata": {},
     "output_type": "execute_result"
    }
   ],
   "source": [
    "tiktoken_len(chunks[0]),tiktoken_len(chunks[1]),tiktoken_len(chunks[2])"
   ]
  },
  {
   "cell_type": "markdown",
   "metadata": {},
   "source": [
    "<b>text_splitter</b>를 이용해서 문장을 적절히(400이하) chunk로 나누게 되었다. 이제는 이 기능을 이용해서 인덱스를 만드는 작업을 할 것이다. 인덱스를 만들 때 <i>embedding</i>이라는 과정을 보게 된다.\n",
    "\n",
    "### Creating Embeddings\n",
    "\n",
    "벡터 임베딩이라는 과정은 LLM이 연관된 컨텍스트를 꺼내는 데 있어서 가장 핵심적인 부분이다. knowledge base에 저장을 하고자 하는 문장을 chunk로 만들어서 이를 벡터임베딩으로 인코딩을 하게 된다.\n",
    "\n",
    "임베딩(벡터임베딩, 혹은 벡터)은 각 chunk의 의미를 '숫자로 표현'한 것이다. 임베딩을 수행하는 것 또한 AI 언어모델을 이용을 하게 된다. AI 언어모델은 사람이 이해하는 문장(human-readable text)을 AI가 이해하는 임베딩(AI-readable embeddings)로 번역을 하는 것이다.\n",
    "\n",
    "![](https://www.pinecone.io/_next/image/?url=https%3A%2F%2Fcdn.sanity.io%2Fimages%2Fvr8gru94%2Fproduction%2F994dbeafd67392ff7e1d25125b96845577b5b6a3-2457x904.png&w=3840&q=75)\n",
    "\n",
    "그 다음 임베딩된 결과를 벡터 데이타베이스에 저장을 하게 된다. 벡터 데이터베이스는 임베딩 사이의 거리계산을 통해서 비슷한 의미를 가진 chunk를 찾을 수 있는 기능을 가지고 있다.\n",
    "\n",
    "![](https://www.pinecone.io/_next/image/?url=https%3A%2F%2Fcdn.sanity.io%2Fimages%2Fvr8gru94%2Fproduction%2F1fc2d4ff7f25e791456cad9d2b76f46d312dba24-1775x974.png&w=1920&q=75)\n",
    "\n"
   ]
  },
  {
   "cell_type": "code",
   "execution_count": 17,
   "metadata": {},
   "outputs": [],
   "source": [
    "from langchain.embeddings.openai import OpenAIEmbeddings\n",
    "\n",
    "model_name = 'text-embedding-ada-002'\n",
    "embed = OpenAIEmbeddings(\n",
    "    model=model_name\n",
    ")"
   ]
  },
  {
   "cell_type": "code",
   "execution_count": 18,
   "metadata": {},
   "outputs": [
    {
     "data": {
      "text/plain": [
       "(2, 1536)"
      ]
     },
     "execution_count": 18,
     "metadata": {},
     "output_type": "execute_result"
    }
   ],
   "source": [
    "texts = [\n",
    "    'this is the first chunk of text',\n",
    "    'then another second chunk of text is here'\n",
    "]\n",
    "\n",
    "res = embed.embed_documents(texts)\n",
    "len(res), len(res[0])"
   ]
  },
  {
   "cell_type": "markdown",
   "metadata": {},
   "source": [
    "위의 예제에서, 우리가 2개의 chunk를 던졌으니 2개의 임베딩을 받았다. 각 임베딩은 1536 차원(1536-dimensional)의 벡터이다. 이는 <b>text-embedding-ada-002</b>의 출력차원이다.\n",
    "\n",
    "자 이제 우리는 데이타셋, 텍스트 분리자(text splitter), 임베딩모델을 준비했다. 이제 knowledge base를 만들 차례이다.\n",
    "\n",
    "### Vector Database\n",
    "\n",
    "벡터 DB는 방대한 양의 데이타(records)중에서 비슷한 임베딩을 검색/입력/수정/삭제(CRUD)를 할 수 있도록 해주는 knowledge base이다.\n",
    "여기서는 Pinecone의 벡터DB를 사용하려한다. 이를 위해서는 pinecone에서 무료 API Key를 획득해야 한다. 그 후 DB 인덱스를 초기화 해야 한다."
   ]
  },
  {
   "cell_type": "code",
   "execution_count": null,
   "metadata": {},
   "outputs": [],
   "source": [
    "from pinecone import Pinecone, ServerlessSpec\n",
    "from dotenv import load_dotenv\n",
    "\n",
    "load_dotenv()\n",
    "\n",
    "index_name = 'langchain-retrieval-augmentation'\n",
    "\n",
    "#아래는 필요 없음.\n",
    "#pinecone.init(\n",
    "#    environment=\"default\"\n",
    "#)\n",
    "\n",
    "pc = Pinecone()\n",
    "\n",
    "# index를 만든다. ElasticSearch처럼 index는 collection이며 table이다.\n",
    "pc.create_index(\n",
    "    name=index_name,\n",
    "    metric='dotproduct',\n",
    "    dimension=len(res[0]),\n",
    "    spec=ServerlessSpec(\n",
    "        cloud=\"aws\",\n",
    "        region=\"us-east-1\"\n",
    "    )\n",
    ")"
   ]
  },
  {
   "cell_type": "markdown",
   "metadata": {},
   "source": [
    "테이블을 만들었으니 이제 데이타를 밀어 넣어서 실제 인덱스를 만들자. ID를 생성하고, 임베딩과 메타데이타를 만들어서 넣어야 한다. 시간이 많이 걸리는 작업이기 때문에 아래와 같이 배치를 통해서 좀 더 빠르게 할 수 있다."
   ]
  },
  {
   "cell_type": "code",
   "execution_count": 26,
   "metadata": {},
   "outputs": [
    {
     "name": "stderr",
     "output_type": "stream",
     "text": [
      "100%|██████████| 10000/10000 [15:17<00:00, 10.90it/s] \n"
     ]
    }
   ],
   "source": [
    "from tqdm.auto import tqdm\n",
    "from uuid import uuid4\n",
    "\n",
    "batch_limit=100\n",
    "\n",
    "texts=[]\n",
    "metadatas=[]\n",
    "\n",
    "for i, record in enumerate(tqdm(data)):\n",
    "    # 먼저 메타데이타를 만든다.\n",
    "    metadata = {\n",
    "        'wiki-id': str(record['id']),\n",
    "        'source': record['url'],\n",
    "        'title': record['title']\n",
    "    }\n",
    "    # 한 행(record)에서 chunk를 만든다.\n",
    "    record_texts = text_splitter.split_text(record['text'])\n",
    "    # 각각의 chunk에 대해서 메타데이타(dictionary 타입)을 만든다.\n",
    "    record_metadatas=[{\n",
    "        \"chunk\": j, \"text\": text, **metadata\n",
    "    } for j, text in enumerate(record_texts)]\n",
    "\n",
    "    # 현재의 batch에다가 추가한다.\n",
    "    texts.extend(record_texts)\n",
    "    metadatas.extend(record_metadatas)\n",
    "    # batch 개수에 도달하면 vector DB에 밀어 넣는다.\n",
    "    if len(texts) >= batch_limit:\n",
    "        ids = [str(uuid4()) for _ in range(len(texts))]\n",
    "        embeds = embed.embed_documents(texts)\n",
    "        index.upsert(vectors=zip(ids, embeds, metadatas))\n",
    "        texts=[]\n",
    "        metadatas=[]"
   ]
  },
  {
   "cell_type": "code",
   "execution_count": 25,
   "metadata": {},
   "outputs": [
    {
     "data": {
      "text/plain": [
       "{'dimension': 1536,\n",
       " 'index_fullness': 0.0,\n",
       " 'namespaces': {'': {'vector_count': 27635}},\n",
       " 'total_vector_count': 27635}"
      ]
     },
     "execution_count": 25,
     "metadata": {},
     "output_type": "execute_result"
    }
   ],
   "source": [
    "index=pc.Index(index_name)\n",
    "index.describe_index_stats()"
   ]
  },
  {
   "cell_type": "markdown",
   "metadata": {},
   "source": [
    "우리가 생성한 인덱스에는 27k 정도의 데이타(records)가 들어있다. 크지 않은 숫자이지만 샘플로써는 사용할 수 있을 정도이다.\n",
    "\n",
    "## LangChain Vector Store and Querying\n",
    "\n",
    "지금까지는 LangChain과는 전혀 상관 없이 인덱스를 구축했다. 지금 이 작업은 데이타를 가져와서->스플리터를 통해 chunk를 만들고->임베딩을 계산해서->Vector DB에 입력하는 간단한 과정이고, Pinecone 라이브러리를 직접 사용하는 것이 빠르기 때문에 LangChain과는 상관없이 했다. 이제는 다시 LangChain으로 돌아갈 때이다."
   ]
  },
  {
   "cell_type": "code",
   "execution_count": 27,
   "metadata": {},
   "outputs": [
    {
     "name": "stderr",
     "output_type": "stream",
     "text": [
      "/Users/minsoojo/Library/Caches/pypoetry/virtualenvs/pinecone-ai-handbook-m0t52s90-py3.10/lib/python3.10/site-packages/langchain_community/vectorstores/pinecone.py:68: UserWarning: Passing in `embedding` as a Callable is deprecated. Please pass in an Embeddings object instead.\n",
      "  warnings.warn(\n"
     ]
    }
   ],
   "source": [
    "from langchain.vectorstores import Pinecone\n",
    "\n",
    "text_field = \"text\"\n",
    "\n",
    "index = pc.Index(index_name)\n",
    "\n",
    "vectorstore=Pinecone(\n",
    "    index, embed.embed_query, text_field\n",
    ")"
   ]
  },
  {
   "cell_type": "markdown",
   "metadata": {},
   "source": [
    "일단 LLM 없이 <b>유사도 검색(similarity search)</b> 메쏘드를 사용해서 vector DB에서부터 곧바로 chunk를 찾아내는 query를 하는 것을 살펴보자."
   ]
  },
  {
   "cell_type": "code",
   "execution_count": 29,
   "metadata": {},
   "outputs": [
    {
     "data": {
      "text/plain": [
       "[Document(page_content='Benito Amilcare Andrea Mussolini KSMOM GCTE (29 July 1883 – 28 April 1945) was an Italian politician and journalist. He was also the Prime Minister of Italy from 1922 until 1943. He was the leader of the National Fascist Party.\\n\\nBiography\\n\\nEarly life\\nBenito Mussolini was named after Benito Juarez, a Mexican opponent of the political power of the Roman Catholic Church, by his anticlerical (a person who opposes the political interference of the Roman Catholic Church in secular affairs) father. Mussolini\\'s father was a blacksmith. Before being involved in politics, Mussolini was a newspaper editor (where he learned all his propaganda skills) and elementary school teacher.\\n\\nAt first, Mussolini was a socialist, but when he wanted Italy to join the First World War, he was thrown out of the socialist party. He \\'invented\\' a new ideology, Fascism, much out of Nationalist\\xa0and Conservative views.\\n\\nRise to power and becoming dictator\\nIn 1922, he took power by having a large group of men, \"Black Shirts,\" march on Rome and threaten to take over the government. King Vittorio Emanuele III gave in, allowed him to form a government, and made him prime minister. In the following five years, he gained power, and in 1927 created the OVRA, his personal secret police force. Using the agency to arrest, scare, or murder people against his regime, Mussolini was dictator\\xa0of Italy by the end of 1927. Only the King and his own Fascist party could challenge his power.', metadata={'chunk': 0.0, 'source': 'https://simple.wikipedia.org/wiki/Benito%20Mussolini', 'title': 'Benito Mussolini', 'wiki-id': '6754'}),\n",
       " Document(page_content='Benito Amilcare Andrea Mussolini KSMOM GCTE (29 July 1883 – 28 April 1945) was an Italian politician and journalist. He was also the Prime Minister of Italy from 1922 until 1943. He was the leader of the National Fascist Party.\\n\\nBiography\\n\\nEarly life\\nBenito Mussolini was named after Benito Juarez, a Mexican opponent of the political power of the Roman Catholic Church, by his anticlerical (a person who opposes the political interference of the Roman Catholic Church in secular affairs) father. Mussolini\\'s father was a blacksmith. Before being involved in politics, Mussolini was a newspaper editor (where he learned all his propaganda skills) and elementary school teacher.\\n\\nAt first, Mussolini was a socialist, but when he wanted Italy to join the First World War, he was thrown out of the socialist party. He \\'invented\\' a new ideology, Fascism, much out of Nationalist\\xa0and Conservative views.\\n\\nRise to power and becoming dictator\\nIn 1922, he took power by having a large group of men, \"Black Shirts,\" march on Rome and threaten to take over the government. King Vittorio Emanuele III gave in, allowed him to form a government, and made him prime minister. In the following five years, he gained power, and in 1927 created the OVRA, his personal secret police force. Using the agency to arrest, scare, or murder people against his regime, Mussolini was dictator\\xa0of Italy by the end of 1927. Only the King and his own Fascist party could challenge his power.', metadata={'chunk': 0.0, 'source': 'https://simple.wikipedia.org/wiki/Benito%20Mussolini', 'title': 'Benito Mussolini', 'wiki-id': '6754'}),\n",
       " Document(page_content='Fascism as practiced by Mussolini\\nMussolini\\'s form of Fascism, \"Italian Fascism\"- unlike Nazism, the racist ideology that Adolf Hitler followed- was different and less destructive than Hitler\\'s. Although a believer in the superiority of the Italian nation and national unity, Mussolini, unlike Hitler, is quoted \"Race? It is a feeling, not a reality. Nothing will ever make me believe that biologically pure races can be shown to exist today\".\\n\\nMussolini wanted Italy to become a new Roman Empire. In 1923, he attacked the island of Corfu, and in 1924, he occupied the city state of Fiume. In 1935, he attacked the African country Abyssinia (now called Ethiopia). His forces occupied it in 1936. Italy was thrown out of the League of Nations because of this aggression. In 1939, he occupied the country Albania. In 1936, Mussolini signed an alliance with Adolf Hitler, the dictator of Germany.\\n\\nFall from power and death\\nIn 1940, he sent Italy into the Second World War on the side of the Axis countries. Mussolini attacked Greece, but he failed to conquer it. In 1943, the Allies landed in Southern Italy. The Fascist party and King Vittorio Emanuel III deposed Mussolini and put him in jail, but he was set free by the Germans, who made him ruler of the Italian Social Republic puppet state which was in a small part of Central Italy. When the war was almost over, Mussolini tried to escape to Switzerland with his mistress, Clara Petacci, but they were both captured and shot by partisans. Mussolini\\'s dead body was hanged upside-down, together with his mistress and some of Mussolini\\'s helpers, on a pole at a gas station in the village of Millan, which is near the border  between Italy and Switzerland.', metadata={'chunk': 1.0, 'source': 'https://simple.wikipedia.org/wiki/Benito%20Mussolini', 'title': 'Benito Mussolini', 'wiki-id': '6754'}),\n",
       " Document(page_content='Fascism as practiced by Mussolini\\nMussolini\\'s form of Fascism, \"Italian Fascism\"- unlike Nazism, the racist ideology that Adolf Hitler followed- was different and less destructive than Hitler\\'s. Although a believer in the superiority of the Italian nation and national unity, Mussolini, unlike Hitler, is quoted \"Race? It is a feeling, not a reality. Nothing will ever make me believe that biologically pure races can be shown to exist today\".\\n\\nMussolini wanted Italy to become a new Roman Empire. In 1923, he attacked the island of Corfu, and in 1924, he occupied the city state of Fiume. In 1935, he attacked the African country Abyssinia (now called Ethiopia). His forces occupied it in 1936. Italy was thrown out of the League of Nations because of this aggression. In 1939, he occupied the country Albania. In 1936, Mussolini signed an alliance with Adolf Hitler, the dictator of Germany.\\n\\nFall from power and death\\nIn 1940, he sent Italy into the Second World War on the side of the Axis countries. Mussolini attacked Greece, but he failed to conquer it. In 1943, the Allies landed in Southern Italy. The Fascist party and King Vittorio Emanuel III deposed Mussolini and put him in jail, but he was set free by the Germans, who made him ruler of the Italian Social Republic puppet state which was in a small part of Central Italy. When the war was almost over, Mussolini tried to escape to Switzerland with his mistress, Clara Petacci, but they were both captured and shot by partisans. Mussolini\\'s dead body was hanged upside-down, together with his mistress and some of Mussolini\\'s helpers, on a pole at a gas station in the village of Millan, which is near the border  between Italy and Switzerland.', metadata={'chunk': 1.0, 'source': 'https://simple.wikipedia.org/wiki/Benito%20Mussolini', 'title': 'Benito Mussolini', 'wiki-id': '6754'}),\n",
       " Document(page_content='Veneto was made part of Italy in 1866 after a war with Austria. Italian soldiers won Latium in 1870. That was when they took away the Pope\\'s power. The Pope, who was angry, said that he was a prisoner to keep Catholic people from being active in politics. That was the year of Italian unification.\\n\\nItaly participated in World War I. It was an ally of Great Britain, France, and Russia against the Central Powers. Almost all of Italy\\'s fighting was on the Eastern border, near Austria. After the \"Caporetto defeat\", Italy thought they would lose the war. But, in 1918, the Central Powers surrendered. Italy gained the Trentino-South Tyrol, which once was owned by Austria.\\n\\nFascist Italy \\nIn 1922, a new Italian government started. It was ruled by Benito Mussolini, the leader of Fascism in Italy. He became head of government and dictator, calling himself \"Il Duce\" (which means \"leader\" in Italian). He became friends with German dictator Adolf Hitler. Germany, Japan, and Italy became the Axis Powers. In 1940, they entered World War II together against France, Great Britain, and later the Soviet Union. During the war, Italy controlled most of the Mediterranean Sea.', metadata={'chunk': 5.0, 'source': 'https://simple.wikipedia.org/wiki/Italy', 'title': 'Italy', 'wiki-id': '363'}),\n",
       " Document(page_content='Veneto was made part of Italy in 1866 after a war with Austria. Italian soldiers won Latium in 1870. That was when they took away the Pope\\'s power. The Pope, who was angry, said that he was a prisoner to keep Catholic people from being active in politics. That was the year of Italian unification.\\n\\nItaly participated in World War I. It was an ally of Great Britain, France, and Russia against the Central Powers. Almost all of Italy\\'s fighting was on the Eastern border, near Austria. After the \"Caporetto defeat\", Italy thought they would lose the war. But, in 1918, the Central Powers surrendered. Italy gained the Trentino-South Tyrol, which once was owned by Austria.\\n\\nFascist Italy \\nIn 1922, a new Italian government started. It was ruled by Benito Mussolini, the leader of Fascism in Italy. He became head of government and dictator, calling himself \"Il Duce\" (which means \"leader\" in Italian). He became friends with German dictator Adolf Hitler. Germany, Japan, and Italy became the Axis Powers. In 1940, they entered World War II together against France, Great Britain, and later the Soviet Union. During the war, Italy controlled most of the Mediterranean Sea.', metadata={'chunk': 5.0, 'source': 'https://simple.wikipedia.org/wiki/Italy', 'title': 'Italy', 'wiki-id': '363'})]"
      ]
     },
     "execution_count": 29,
     "metadata": {},
     "output_type": "execute_result"
    }
   ],
   "source": [
    "query = \"who was Benito Mussolini?\"\n",
    "\n",
    "vectorstore.similarity_search(\n",
    "    query,\n",
    "    k=6\n",
    ")"
   ]
  },
  {
   "cell_type": "markdown",
   "metadata": {},
   "source": [
    "pinecone에 index를 두 번 만들었기 때문에 위와 같이 같은 문장들이 두 번씩 나온다(역자 실수).\n",
    "어쨌던 이 결과 문장들을 살펴보면 모두 다 질문과 연관된 결과들이다. 즉 제대로 검색을 해오고 있다. 이제 우리가 할 일은 LLM을 붙여서 이 정보를 이용해 답변을 만들 차례이다.\n",
    "\n",
    "### Generative Question Answering\n",
    "\n",
    "generative question-answering(GQA)을 할 때에는 우리는 LLM에게 질문을 할 때, 우리가 만든 knowledge base에서 관련된 정보를 꺼내서 인스트럭션을 하게 된다. 이 작업은 <b>RetrievalQA</b> 체인을 통해서 구현하게 된다."
   ]
  },
  {
   "cell_type": "code",
   "execution_count": 30,
   "metadata": {},
   "outputs": [],
   "source": [
    "from langchain.chat_models import ChatOpenAI\n",
    "from langchain.chains import RetrievalQA\n",
    "\n",
    "llm = ChatOpenAI()\n",
    "llm.temperature=0.0\n",
    "\n",
    "qa = RetrievalQA.from_chain_type(\n",
    "    llm=llm,\n",
    "    chain_type=\"stuff\",\n",
    "    retriever=vectorstore.as_retriever()\n",
    ")"
   ]
  },
  {
   "cell_type": "code",
   "execution_count": 31,
   "metadata": {},
   "outputs": [
    {
     "data": {
      "text/plain": [
       "'Benito Mussolini was an Italian politician, journalist, and the Prime Minister of Italy from 1922 until 1943. He was the leader of the National Fascist Party and played a significant role in the rise of fascism in Italy. Mussolini was known for his authoritarian rule and alliance with Adolf Hitler during World War II.'"
      ]
     },
     "execution_count": 31,
     "metadata": {},
     "output_type": "execute_result"
    }
   ],
   "source": [
    "qa.run(query)"
   ]
  },
  {
   "cell_type": "markdown",
   "metadata": {},
   "source": [
    "어떠한 과정을 통해서 이러한 답이 나오는 지에 대해서는 LangSmith console을 살펴보면 자세히 나온다. Retriever를 통해 qa가 만든 prompt는 아래와 같다.\n",
    "\n",
    "Use the following pieces of context to answer the user's question. \n",
    "If you don't know the answer, just say that you don't know, don't try to make up an answer.\n",
    "\n",
    "Benito Amilcare Andrea Mussolini KSMOM GCTE (29 July 1883 – 28 April 1945) was an Italian politician and journalist. He was also the Prime Minister of Italy from 1922 until 1943. He was the leader of the National Fascist Party.\n",
    "\n",
    "Biography\n",
    "\n",
    "Early life\n",
    "Benito Mussolini was named after Benito Juarez, a Mexican opponent of the political power of the Roman Catholic Church, by his anticlerical (a person who opposes the political interference of the Roman Catholic Church in secular affairs) father. Mussolini's father was a blacksmith. Before being involved in politics, Mussolini was a newspaper editor (where he learned all his propaganda skills) and elementary school teacher.\n",
    "\n",
    "At first, Mussolini was a socialist, but when he wanted Italy to join the First World War, he was thrown out of the socialist party. He 'invented' a new ideology, Fascism, much out of Nationalist and Conservative views.\n",
    "\n",
    "Rise to power and becoming dictator\n",
    "In 1922, he took power by having a large group of men, \"Black Shirts,\" march on Rome and threaten to take over the government. King Vittorio Emanuele III gave in, allowed him to form a government, and made him prime minister. In the following five years, he gained power, and in 1927 created the OVRA, his personal secret police force. Using the agency to arrest, scare, or murder people against his regime, Mussolini was dictator of Italy by the end of 1927. Only the King and his own Fascist party could challenge his power.\n",
    "\n",
    "Benito Amilcare Andrea Mussolini KSMOM GCTE (29 July 1883 – 28 April 1945) was an Italian politician and journalist. He was also the Prime Minister of Italy from 1922 until 1943. He was the leader of the National Fascist Party.\n",
    "\n",
    "Biography\n",
    "\n",
    "Early life\n",
    "Benito Mussolini was named after Benito Juarez, a Mexican opponent of the political power of the Roman Catholic Church, by his anticlerical (a person who opposes the political interference of the Roman Catholic Church in secular affairs) father. Mussolini's father was a blacksmith. Before being involved in politics, Mussolini was a newspaper editor (where he learned all his propaganda skills) and elementary school teacher.\n",
    "\n",
    "At first, Mussolini was a socialist, but when he wanted Italy to join the First World War, he was thrown out of the socialist party. He 'invented' a new ideology, Fascism, much out of Nationalist and Conservative views.\n",
    "\n",
    "Rise to power and becoming dictator\n",
    "In 1922, he took power by having a large group of men, \"Black Shirts,\" march on Rome and threaten to take over the government. King Vittorio Emanuele III gave in, allowed him to form a government, and made him prime minister. In the following five years, he gained power, and in 1927 created the OVRA, his personal secret police force. Using the agency to arrest, scare, or murder people against his regime, Mussolini was dictator of Italy by the end of 1927. Only the King and his own Fascist party could challenge his power.\n",
    "\n",
    "Fascism as practiced by Mussolini\n",
    "Mussolini's form of Fascism, \"Italian Fascism\"- unlike Nazism, the racist ideology that Adolf Hitler followed- was different and less destructive than Hitler's. Although a believer in the superiority of the Italian nation and national unity, Mussolini, unlike Hitler, is quoted \"Race? It is a feeling, not a reality. Nothing will ever make me believe that biologically pure races can be shown to exist today\".\n",
    "\n",
    "Mussolini wanted Italy to become a new Roman Empire. In 1923, he attacked the island of Corfu, and in 1924, he occupied the city state of Fiume. In 1935, he attacked the African country Abyssinia (now called Ethiopia). His forces occupied it in 1936. Italy was thrown out of the League of Nations because of this aggression. In 1939, he occupied the country Albania. In 1936, Mussolini signed an alliance with Adolf Hitler, the dictator of Germany.\n",
    "\n",
    "Fall from power and death\n",
    "In 1940, he sent Italy into the Second World War on the side of the Axis countries. Mussolini attacked Greece, but he failed to conquer it. In 1943, the Allies landed in Southern Italy. The Fascist party and King Vittorio Emanuel III deposed Mussolini and put him in jail, but he was set free by the Germans, who made him ruler of the Italian Social Republic puppet state which was in a small part of Central Italy. When the war was almost over, Mussolini tried to escape to Switzerland with his mistress, Clara Petacci, but they were both captured and shot by partisans. Mussolini's dead body was hanged upside-down, together with his mistress and some of Mussolini's helpers, on a pole at a gas station in the village of Millan, which is near the border  between Italy and Switzerland.\n",
    "\n",
    "Fascism as practiced by Mussolini\n",
    "Mussolini's form of Fascism, \"Italian Fascism\"- unlike Nazism, the racist ideology that Adolf Hitler followed- was different and less destructive than Hitler's. Although a believer in the superiority of the Italian nation and national unity, Mussolini, unlike Hitler, is quoted \"Race? It is a feeling, not a reality. Nothing will ever make me believe that biologically pure races can be shown to exist today\".\n",
    "\n",
    "Mussolini wanted Italy to become a new Roman Empire. In 1923, he attacked the island of Corfu, and in 1924, he occupied the city state of Fiume. In 1935, he attacked the African country Abyssinia (now called Ethiopia). His forces occupied it in 1936. Italy was thrown out of the League of Nations because of this aggression. In 1939, he occupied the country Albania. In 1936, Mussolini signed an alliance with Adolf Hitler, the dictator of Germany.\n",
    "\n",
    "Fall from power and death\n",
    "In 1940, he sent Italy into the Second World War on the side of the Axis countries. Mussolini attacked Greece, but he failed to conquer it. In 1943, the Allies landed in Southern Italy. The Fascist party and King Vittorio Emanuel III deposed Mussolini and put him in jail, but he was set free by the Germans, who made him ruler of the Italian Social Republic puppet state which was in a small part of Central Italy. When the war was almost over, Mussolini tried to escape to Switzerland with his mistress, Clara Petacci, but they were both captured and shot by partisans. Mussolini's dead body was hanged upside-down, together with his mistress and some of Mussolini's helpers, on a pole at a gas station in the village of Millan, which is near the border  between Italy and Switzerland.|\n",
    "\n",
    "\n",
    "하지만 이렇게 하더라도 완벽하게 hallucination을 막는 것은 안된다. 환각은 항상 발생할 수 있으며 완벽하게 막는 것은 쉽지 않다. 하지만 나오는 답변에 대해서 좀더 신뢰성을 향상시킬 수 있는 방법은 또 여러가지가 있다. 그 중 좀 효과적인 방법은 '근거'를 답변에다가 제시하라고 하는 방법이다. 이렇게 하면 사용자는 답변에 나오는 정보가 어디에서 나왔는 지를 알 수 있기 때문에 판단을 할 수 있다. LangChain에서는 앞서 사용한 <b>RetrievalQA</b>대신 <b>RetrievalQAWithSourceChain</b>를 통해서 할 수 있다."
   ]
  },
  {
   "cell_type": "code",
   "execution_count": 36,
   "metadata": {},
   "outputs": [
    {
     "data": {
      "text/plain": [
       "{'question': 'who was Benito Mussolini?',\n",
       " 'answer': 'Benito Mussolini was an Italian politician and journalist who served as the Prime Minister of Italy from 1922 until 1943. He was the leader of the National Fascist Party. Mussolini was known for his form of Fascism, \"Italian Fascism,\" which aimed to make Italy a new Roman Empire. He allied with Adolf Hitler and led Italy into the Second World War on the side of the Axis countries. Mussolini was eventually deposed and captured by partisans, leading to his execution. \\n',\n",
       " 'sources': 'https://simple.wikipedia.org/wiki/Benito%20Mussolini'}"
      ]
     },
     "execution_count": 36,
     "metadata": {},
     "output_type": "execute_result"
    }
   ],
   "source": [
    "from langchain.chains import RetrievalQAWithSourcesChain\n",
    "\n",
    "qa_with_source = RetrievalQAWithSourcesChain.from_chain_type(\n",
    "    llm=llm,\n",
    "    chain_type=\"stuff\",\n",
    "    retriever=vectorstore.as_retriever()\n",
    ")\n",
    "\n",
    "qa_with_source(query)"
   ]
  },
  {
   "cell_type": "markdown",
   "metadata": {},
   "source": [
    "지금까지 vectorstore를 knowledge base로 하여 이를 이용해 source knowledge를 꺼집어 내서 이를 LLM 답변의 기반을 만드는 방법에 대해서 알아보았다. source knowledge를 최신화 하고 근거를 제시하게 함으로써 답변의 신뢰도를 높일 수 있다.\n",
    "\n",
    "Bing의 AI 검색이나 Google의 Bard, 그리고 다양한 ChatGPT plugin 같은데서 LLM이 knowledge base를 사용하는 것을 알 수 있다. 미래의 LLM은 더욱더 고성능의 확장가능하면서 신뢰성 있는 knowledge base와 결합된 형태로 사용이 될 것이다."
   ]
  }
 ],
 "metadata": {
  "kernelspec": {
   "display_name": "pinecone-ai-handbook-m0t52s90-py3.10",
   "language": "python",
   "name": "python3"
  },
  "language_info": {
   "codemirror_mode": {
    "name": "ipython",
    "version": 3
   },
   "file_extension": ".py",
   "mimetype": "text/x-python",
   "name": "python",
   "nbconvert_exporter": "python",
   "pygments_lexer": "ipython3",
   "version": "3.10.11"
  }
 },
 "nbformat": 4,
 "nbformat_minor": 2
}
