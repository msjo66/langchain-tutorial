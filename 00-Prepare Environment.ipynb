{
 "cells": [
  {
   "cell_type": "markdown",
   "metadata": {},
   "source": [
    "환경 준비\n",
    "=======\n",
    "conda를 설치하고 jupyter notebook을 실행해서 실습을 해봤는데 불편하다. code insight나 auto completion같은 기능을 어떻게 넣는 지 모르겠다.\n",
    "그래서 VSCode를 통해 실습을 하려고 했다. 여기서 해결해야 될 것이 아래와 같다.\n",
    "1. Python version을 뭘로 선택을 해야 하지? PC에 여러가지 Python version이 필요할 수도 있는데(따라하는 tutorial마다 서로다른 version을 쓰니까..) 어떤 version을 써야 하나?\n",
    "2. 각 프로젝트(환경)마다 Python version을 어떻게 바꾸지?\n",
    "3. 하루가 멀다하고 가져다 쓰는 library가 version up되고, 다른 library와 호환이 안되는 문제들이 있는데 어떻게 쉽게 제어를 하지?\n",
    "\n",
    "이런 것들을 해결하려고 검색을 하다보니 <https://sjquant.tistory.com/93> 에서 잘 설명을 해 주고 있었다. 요약하면\n",
    "\n",
    "1. pyenv를 이용해 원하는 python version을 설치하고 그 환경을 선택한다.\n",
    "2. poetry를 이용해 프로젝트별 환경을 만들고 library를 제어한다."
   ]
  }
 ],
 "metadata": {
  "kernelspec": {
   "display_name": "pinecone-ai-handbook-m0t52s90-py3.10",
   "language": "python",
   "name": "python3"
  },
  "language_info": {
   "name": "python",
   "version": "3.10.11"
  }
 },
 "nbformat": 4,
 "nbformat_minor": 2
}
